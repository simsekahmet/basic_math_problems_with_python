{
  "nbformat": 4,
  "nbformat_minor": 0,
  "metadata": {
    "colab": {
      "provenance": [],
      "authorship_tag": "ABX9TyOEJ3HtI0tix+ZMPBkMBnwr",
      "include_colab_link": true
    },
    "kernelspec": {
      "name": "python3",
      "display_name": "Python 3"
    },
    "language_info": {
      "name": "python"
    }
  },
  "cells": [
    {
      "cell_type": "markdown",
      "metadata": {
        "id": "view-in-github",
        "colab_type": "text"
      },
      "source": [
        "<a href=\"https://colab.research.google.com/github/simsekahmet/basic_math_problems_with_python/blob/main/Basic_Problems.ipynb\" target=\"_parent\"><img src=\"https://colab.research.google.com/assets/colab-badge.svg\" alt=\"Open In Colab\"/></a>"
      ]
    },
    {
      "cell_type": "markdown",
      "source": [
        "**Even or Add**"
      ],
      "metadata": {
        "id": "mnWlh_j3tfQ0"
      }
    },
    {
      "cell_type": "code",
      "execution_count": 85,
      "metadata": {
        "id": "VvxfO8ufo8k0"
      },
      "outputs": [],
      "source": [
        "def even_or_add(number):\n",
        "  if number % 2 == 0:\n",
        "    print(number, \"is Even\")\n",
        "  else:\n",
        "    print(number, \"is Add\")\n",
        "  return"
      ]
    },
    {
      "cell_type": "code",
      "source": [
        "even_or_add(5)"
      ],
      "metadata": {
        "colab": {
          "base_uri": "https://localhost:8080/"
        },
        "id": "-SRBMo-TsRHw",
        "outputId": "7410a01d-023b-454d-989c-e61bd727e950"
      },
      "execution_count": 86,
      "outputs": [
        {
          "output_type": "stream",
          "name": "stdout",
          "text": [
            "5 is Add\n"
          ]
        }
      ]
    },
    {
      "cell_type": "markdown",
      "source": [
        "**Check Positive or Negative**"
      ],
      "metadata": {
        "id": "PMZkdXLqtndO"
      }
    },
    {
      "cell_type": "code",
      "source": [
        "def pos_or_neg(number):\n",
        "  if number > 0:\n",
        "    print(number, \"is Positive\")\n",
        "  elif number == 0:\n",
        "    print(number, \"is Zero\")\n",
        "  else:\n",
        "    print(number, \"is Negative\")"
      ],
      "metadata": {
        "id": "bZwFSos6tj1Z"
      },
      "execution_count": 83,
      "outputs": []
    },
    {
      "cell_type": "code",
      "source": [
        "pos_or_neg(12)"
      ],
      "metadata": {
        "colab": {
          "base_uri": "https://localhost:8080/"
        },
        "id": "_pCQAU4durl7",
        "outputId": "12136d09-4375-4c77-bcf9-1694cfacbd79"
      },
      "execution_count": 84,
      "outputs": [
        {
          "output_type": "stream",
          "name": "stdout",
          "text": [
            "12 is Positive\n"
          ]
        }
      ]
    },
    {
      "cell_type": "markdown",
      "source": [
        "**Factorial of Number**"
      ],
      "metadata": {
        "id": "DmgneS8Uuy5R"
      }
    },
    {
      "cell_type": "code",
      "source": [
        "def factorial(number):\n",
        "  import math\n",
        "  if number == 0 & 1:\n",
        "    print(\"factorial of \", number, \" is 1.\")\n",
        "  elif number < 0:\n",
        "    print(\"Please, write positive number\")\n",
        "  else:\n",
        "    fac = [i for i in range(1,number+1)]\n",
        "    factorial = math.prod(fac)\n",
        "    print(\"factorial of\", number, \"is\", factorial)\n"
      ],
      "metadata": {
        "id": "oj74s2gUu30w"
      },
      "execution_count": 81,
      "outputs": []
    },
    {
      "cell_type": "code",
      "source": [
        "factorial(3)"
      ],
      "metadata": {
        "colab": {
          "base_uri": "https://localhost:8080/"
        },
        "id": "9FlRKjHBw9qx",
        "outputId": "0d81bde8-1cdb-45b7-a2cc-449cab9f449d"
      },
      "execution_count": 82,
      "outputs": [
        {
          "output_type": "stream",
          "name": "stdout",
          "text": [
            "factorial of 3 is 6\n"
          ]
        }
      ]
    },
    {
      "cell_type": "markdown",
      "source": [
        "**Reverse of A Number**"
      ],
      "metadata": {
        "id": "P1W_m5JtxQpu"
      }
    },
    {
      "cell_type": "code",
      "source": [
        "def reverse(number):\n",
        "    reverse = 0\n",
        "    while number > 0:\n",
        "        remainder = number % 10\n",
        "        reverse = (reverse * 10) + remainder\n",
        "        number = number // 10\n",
        "    return reverse"
      ],
      "metadata": {
        "id": "R0u3_QPPxa0_"
      },
      "execution_count": 67,
      "outputs": []
    },
    {
      "cell_type": "code",
      "source": [
        "number = int(input(\"Enter a number: \"))\n",
        "reversed = reverse(number)\n",
        "print(\"Reversed number:\", reversed)"
      ],
      "metadata": {
        "colab": {
          "base_uri": "https://localhost:8080/"
        },
        "id": "x3WkZ75HyeVs",
        "outputId": "36e66ae9-be20-4bcf-b573-1f447e2bb91e"
      },
      "execution_count": 80,
      "outputs": [
        {
          "output_type": "stream",
          "name": "stdout",
          "text": [
            "Enter a number: 8\n",
            "Reversed number: 8\n"
          ]
        }
      ]
    },
    {
      "cell_type": "markdown",
      "source": [
        "**Palindrome Number**"
      ],
      "metadata": {
        "id": "t1jlzMY31_Yc"
      }
    },
    {
      "cell_type": "code",
      "source": [
        "def palindrome(number):\n",
        "    reverse = 0\n",
        "    while number > 0:\n",
        "      remainder = number % 10\n",
        "      reverse = (reverse * 10) + remainder\n",
        "      number = number // 10\n",
        "      return reverse"
      ],
      "metadata": {
        "id": "alCHPdb-2EeI"
      },
      "execution_count": 72,
      "outputs": []
    },
    {
      "cell_type": "code",
      "source": [
        "number = int(input(\"Enter a number: \"))\n",
        "reversed = reverse(number)\n",
        "if reversed == number:\n",
        "  print(number, \"is Palindrome number\")\n",
        "else:\n",
        "  print(number, \"is not Palindrome number\")\n"
      ],
      "metadata": {
        "colab": {
          "base_uri": "https://localhost:8080/"
        },
        "id": "bo3Ow5XF2bPS",
        "outputId": "2e4ee50c-b17a-4bf3-db16-313084b55db6"
      },
      "execution_count": 79,
      "outputs": [
        {
          "output_type": "stream",
          "name": "stdout",
          "text": [
            "Enter a number: 123454324\n",
            "123454324 is not Palindrome number\n"
          ]
        }
      ]
    }
  ]
}